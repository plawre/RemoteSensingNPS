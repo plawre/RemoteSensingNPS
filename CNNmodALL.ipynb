{
  "nbformat": 4,
  "nbformat_minor": 0,
  "metadata": {
    "colab": {
      "provenance": []
    },
    "kernelspec": {
      "name": "python3",
      "display_name": "Python 3"
    },
    "language_info": {
      "name": "python"
    }
  },
  "cells": [
    {
      "cell_type": "code",
      "execution_count": null,
      "metadata": {
        "id": "HNPcSo2bOMFR"
      },
      "outputs": [],
      "source": []
    },
    {
      "cell_type": "code",
      "source": [
        "import xarray as xr\n",
        "import pandas as pd\n",
        "import numpy as np\n",
        "from sklearn.model_selection import train_test_split\n",
        "import tensorflow as tf\n",
        "from tensorflow.keras.models import Sequential\n",
        "from tensorflow.keras.layers import Dense, Flatten\n",
        "import matplotlib.pyplot as plt\n",
        "\n",
        "# Load the NetCDF file\n",
        "file_path = 'satellite_and_WOA13_1_degree_Jan_v2.nc'\n",
        "data = xr.open_dataset(file_path)\n",
        "\n",
        "# Extract the features and target variables\n",
        "features = ['CHL', 'APH', 'FLU', 'PIC', 'POC', 'PAR', 'SST']\n",
        "targets = ['nitrate', 'phosphate', 'silicate']\n",
        "\n",
        "# Create a DataFrame for features\n",
        "feature_data = pd.concat([data[var].to_dataframe().reset_index(drop=True) for var in features], axis=1)\n",
        "feature_data.columns = features\n",
        "\n",
        "# Create a DataFrame for targets\n",
        "target_data = pd.concat([data[var].to_dataframe().reset_index(drop=True) for var in targets], axis=1)\n",
        "target_data.columns = targets\n",
        "\n",
        "# Handle missing values by filling them with the mean value of each column\n",
        "feature_data = feature_data.fillna(feature_data.mean())\n",
        "target_data = target_data.fillna(target_data.mean())\n",
        "\n",
        "# Combine features and targets for splitting\n",
        "combined_data = pd.concat([feature_data, target_data], axis=1)\n",
        "\n",
        "# Split the data into training and testing sets\n",
        "train_data, test_data = train_test_split(combined_data, test_size=0.2, random_state=42)\n",
        "\n",
        "# Separate features and targets\n",
        "X_train = train_data[features].values\n",
        "y_train = train_data[targets].values\n",
        "X_test = test_data[features].values\n",
        "y_test = test_data[targets].values\n",
        "\n",
        "# Define the CNN model (removing the time dimension, using Dense layers directly)\n",
        "model = Sequential()\n",
        "model.add(Dense(64, activation='relu', input_shape=(len(features),)))\n",
        "model.add(Dense(32, activation='relu'))\n",
        "model.add(Dense(3))  # 3 output neurons for the 3 target variables\n",
        "\n",
        "# Compile the model with a lower learning rate\n",
        "model.compile(optimizer=tf.keras.optimizers.Adam(learning_rate=0.001), loss='mse')\n",
        "\n",
        "# Print the model summary\n",
        "model.summary()\n",
        "\n",
        "# Train the model\n",
        "history = model.fit(X_train, y_train, epochs=50, batch_size=16, validation_data=(X_test, y_test))\n",
        "\n",
        "# Plot the training and validation loss\n",
        "plt.plot(history.history['loss'], label='train')\n",
        "plt.plot(history.history['val_loss'], label='test')\n",
        "plt.xlabel('Epochs')\n",
        "plt.ylabel('Loss')\n",
        "plt.legend()\n",
        "plt.show()"
      ],
      "metadata": {
        "colab": {
          "base_uri": "https://localhost:8080/",
          "height": 1000
        },
        "id": "Sw_wxjjCL9eX",
        "outputId": "0e599e0c-e08e-4e34-cbfa-3bb5c37e8ed3"
      },
      "execution_count": null,
      "outputs": [
        {
          "output_type": "stream",
          "name": "stdout",
          "text": [
            "Model: \"sequential_4\"\n",
            "_________________________________________________________________\n",
            " Layer (type)                Output Shape              Param #   \n",
            "=================================================================\n",
            " dense_3 (Dense)             (None, 64)                512       \n",
            "                                                                 \n",
            " dense_4 (Dense)             (None, 32)                2080      \n",
            "                                                                 \n",
            " dense_5 (Dense)             (None, 3)                 99        \n",
            "                                                                 \n",
            "=================================================================\n",
            "Total params: 2,691\n",
            "Trainable params: 2,691\n",
            "Non-trainable params: 0\n",
            "_________________________________________________________________\n",
            "Epoch 1/50\n",
            "3240/3240 [==============================] - 9s 3ms/step - loss: 36.0727 - val_loss: 23.8654\n",
            "Epoch 2/50\n",
            "3240/3240 [==============================] - 7s 2ms/step - loss: 22.6774 - val_loss: 19.3683\n",
            "Epoch 3/50\n",
            "3240/3240 [==============================] - 8s 2ms/step - loss: 19.0123 - val_loss: 17.6612\n",
            "Epoch 4/50\n",
            "3240/3240 [==============================] - 7s 2ms/step - loss: 18.8125 - val_loss: 17.0849\n",
            "Epoch 5/50\n",
            "3240/3240 [==============================] - 7s 2ms/step - loss: 17.1505 - val_loss: 17.5685\n",
            "Epoch 6/50\n",
            "3240/3240 [==============================] - 7s 2ms/step - loss: 16.7945 - val_loss: 16.3890\n",
            "Epoch 7/50\n",
            "3240/3240 [==============================] - 7s 2ms/step - loss: 16.4261 - val_loss: 16.0162\n",
            "Epoch 8/50\n",
            "3240/3240 [==============================] - 8s 3ms/step - loss: 16.1195 - val_loss: 15.7203\n",
            "Epoch 9/50\n",
            "3240/3240 [==============================] - 7s 2ms/step - loss: 15.8783 - val_loss: 17.3393\n",
            "Epoch 10/50\n",
            "3240/3240 [==============================] - 8s 3ms/step - loss: 15.4352 - val_loss: 15.2919\n",
            "Epoch 11/50\n",
            "3240/3240 [==============================] - 7s 2ms/step - loss: 15.3573 - val_loss: 15.1991\n",
            "Epoch 12/50\n",
            "3240/3240 [==============================] - 8s 2ms/step - loss: 15.1806 - val_loss: 14.5541\n",
            "Epoch 13/50\n",
            "3240/3240 [==============================] - 6s 2ms/step - loss: 15.1289 - val_loss: 14.6210\n",
            "Epoch 14/50\n",
            "3240/3240 [==============================] - 9s 3ms/step - loss: 14.9836 - val_loss: 16.5480\n",
            "Epoch 15/50\n",
            "3240/3240 [==============================] - 6s 2ms/step - loss: 14.8417 - val_loss: 14.7631\n",
            "Epoch 16/50\n",
            "3240/3240 [==============================] - 9s 3ms/step - loss: 14.7655 - val_loss: 14.4291\n",
            "Epoch 17/50\n",
            "3240/3240 [==============================] - 6s 2ms/step - loss: 14.7030 - val_loss: 13.8614\n",
            "Epoch 18/50\n",
            "3240/3240 [==============================] - 8s 3ms/step - loss: 14.5839 - val_loss: 14.0222\n",
            "Epoch 19/50\n",
            "3240/3240 [==============================] - 6s 2ms/step - loss: 14.5114 - val_loss: 14.3013\n",
            "Epoch 20/50\n",
            "3240/3240 [==============================] - 8s 3ms/step - loss: 14.4977 - val_loss: 15.3219\n",
            "Epoch 21/50\n",
            "3240/3240 [==============================] - 7s 2ms/step - loss: 14.4153 - val_loss: 14.7742\n",
            "Epoch 22/50\n",
            "3240/3240 [==============================] - 8s 2ms/step - loss: 14.3916 - val_loss: 14.1493\n",
            "Epoch 23/50\n",
            "3240/3240 [==============================] - 7s 2ms/step - loss: 14.3190 - val_loss: 14.0063\n",
            "Epoch 24/50\n",
            "3240/3240 [==============================] - 7s 2ms/step - loss: 14.2999 - val_loss: 13.9173\n",
            "Epoch 25/50\n",
            "3240/3240 [==============================] - 7s 2ms/step - loss: 14.2606 - val_loss: 13.5655\n",
            "Epoch 26/50\n",
            "3240/3240 [==============================] - 7s 2ms/step - loss: 14.1748 - val_loss: 14.2182\n",
            "Epoch 27/50\n",
            "3240/3240 [==============================] - 8s 2ms/step - loss: 14.1121 - val_loss: 14.0309\n",
            "Epoch 28/50\n",
            "3240/3240 [==============================] - 8s 2ms/step - loss: 14.0832 - val_loss: 13.6115\n",
            "Epoch 29/50\n",
            "3240/3240 [==============================] - 8s 2ms/step - loss: 14.1081 - val_loss: 14.6299\n",
            "Epoch 30/50\n",
            "3240/3240 [==============================] - 7s 2ms/step - loss: 14.0908 - val_loss: 14.9257\n",
            "Epoch 31/50\n",
            "3240/3240 [==============================] - 8s 3ms/step - loss: 13.9183 - val_loss: 14.0572\n",
            "Epoch 32/50\n",
            "3240/3240 [==============================] - 7s 2ms/step - loss: 13.8676 - val_loss: 13.3256\n",
            "Epoch 33/50\n",
            "3240/3240 [==============================] - 8s 3ms/step - loss: 13.7827 - val_loss: 14.6751\n",
            "Epoch 34/50\n",
            "3240/3240 [==============================] - 6s 2ms/step - loss: 13.8300 - val_loss: 14.4148\n",
            "Epoch 35/50\n",
            "3240/3240 [==============================] - 8s 3ms/step - loss: 13.8690 - val_loss: 13.2863\n",
            "Epoch 36/50\n",
            "3240/3240 [==============================] - 7s 2ms/step - loss: 13.6940 - val_loss: 13.6650\n",
            "Epoch 37/50\n",
            "3240/3240 [==============================] - 9s 3ms/step - loss: 13.7121 - val_loss: 13.2646\n",
            "Epoch 38/50\n",
            "3240/3240 [==============================] - 7s 2ms/step - loss: 13.7831 - val_loss: 14.8027\n",
            "Epoch 39/50\n",
            "3240/3240 [==============================] - 8s 3ms/step - loss: 13.7195 - val_loss: 13.4609\n",
            "Epoch 40/50\n",
            "3240/3240 [==============================] - 7s 2ms/step - loss: 13.5732 - val_loss: 14.0248\n",
            "Epoch 41/50\n",
            "3240/3240 [==============================] - 8s 3ms/step - loss: 13.5664 - val_loss: 14.6542\n",
            "Epoch 42/50\n",
            "3240/3240 [==============================] - 6s 2ms/step - loss: 13.6260 - val_loss: 15.0485\n",
            "Epoch 43/50\n",
            "3240/3240 [==============================] - 8s 3ms/step - loss: 13.5742 - val_loss: 13.1545\n",
            "Epoch 44/50\n",
            "3240/3240 [==============================] - 7s 2ms/step - loss: 13.5307 - val_loss: 13.2605\n",
            "Epoch 45/50\n",
            "3240/3240 [==============================] - 8s 3ms/step - loss: 13.5113 - val_loss: 13.6633\n",
            "Epoch 46/50\n",
            "3240/3240 [==============================] - 7s 2ms/step - loss: 13.5018 - val_loss: 13.0690\n",
            "Epoch 47/50\n",
            "3240/3240 [==============================] - 8s 3ms/step - loss: 13.4684 - val_loss: 14.6248\n",
            "Epoch 48/50\n",
            "3240/3240 [==============================] - 7s 2ms/step - loss: 13.5256 - val_loss: 14.0463\n",
            "Epoch 49/50\n",
            "3240/3240 [==============================] - 10s 3ms/step - loss: 13.4757 - val_loss: 13.1312\n",
            "Epoch 50/50\n",
            "3240/3240 [==============================] - 7s 2ms/step - loss: 13.3970 - val_loss: 13.9265\n"
          ]
        },
        {
          "output_type": "display_data",
          "data": {
            "text/plain": [
              "<Figure size 640x480 with 1 Axes>"
            ],
            "image/png": "[encoded data removed]"
          },
          "metadata": {}
        }
      ]
    },
    {
      "cell_type": "code",
      "source": [
        "# Save the trained model\n",
        "model.save('trained_model.h5')\n",
        "\n",
        "print(\"Model saved as 'trained_model.h5'\")"
      ],
      "metadata": {
        "colab": {
          "base_uri": "https://localhost:8080/"
        },
        "id": "DQk3mQG-N_Qo",
        "outputId": "11e28899-74db-44f8-bf40-747f2d3e73b6"
      },
      "execution_count": null,
      "outputs": [
        {
          "output_type": "stream",
          "name": "stdout",
          "text": [
            "Model saved as 'trained_model.h5'\n"
          ]
        }
      ]
    },
    {
      "cell_type": "code",
      "source": [
        "# Load the model\n",
        "model = load_model('trained_model.h5')\n",
        "\n",
        "# Print the model summary to verify it was loaded correctly\n",
        "model.summary()"
      ],
      "metadata": {
        "colab": {
          "base_uri": "https://localhost:8080/",
          "height": 231
        },
        "id": "oyrlSgAUOEvF",
        "outputId": "62ecd976-855f-4218-c571-4a6dfa594c7a"
      },
      "execution_count": null,
      "outputs": [
        {
          "output_type": "error",
          "ename": "NameError",
          "evalue": "name 'load_model' is not defined",
          "traceback": [
            "\u001b[0;31m---------------------------------------------------------------------------\u001b[0m",
            "\u001b[0;31mNameError\u001b[0m                                 Traceback (most recent call last)",
            "\u001b[0;32m<ipython-input-33-bc949398b399>\u001b[0m in \u001b[0;36m<cell line: 2>\u001b[0;34m()\u001b[0m\n\u001b[1;32m      1\u001b[0m \u001b[0;31m# Load the model\u001b[0m\u001b[0;34m\u001b[0m\u001b[0;34m\u001b[0m\u001b[0m\n\u001b[0;32m----> 2\u001b[0;31m \u001b[0mmodel\u001b[0m \u001b[0;34m=\u001b[0m \u001b[0mload_model\u001b[0m\u001b[0;34m(\u001b[0m\u001b[0;34m'trained_model.h5'\u001b[0m\u001b[0;34m)\u001b[0m\u001b[0;34m\u001b[0m\u001b[0;34m\u001b[0m\u001b[0m\n\u001b[0m\u001b[1;32m      3\u001b[0m \u001b[0;34m\u001b[0m\u001b[0m\n\u001b[1;32m      4\u001b[0m \u001b[0;31m# Print the model summary to verify it was loaded correctly\u001b[0m\u001b[0;34m\u001b[0m\u001b[0;34m\u001b[0m\u001b[0m\n\u001b[1;32m      5\u001b[0m \u001b[0mmodel\u001b[0m\u001b[0;34m.\u001b[0m\u001b[0msummary\u001b[0m\u001b[0;34m(\u001b[0m\u001b[0;34m)\u001b[0m\u001b[0;34m\u001b[0m\u001b[0;34m\u001b[0m\u001b[0m\n",
            "\u001b[0;31mNameError\u001b[0m: name 'load_model' is not defined"
          ]
        }
      ]
    }
  ]
}